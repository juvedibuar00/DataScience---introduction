{
 "cells": [
  {
   "cell_type": "markdown",
   "id": "4fc87307",
   "metadata": {},
   "source": [
    "Processo de importação de um arquivo csv para analise\n",
    "Usa-se a funçao pd.read_csv e o caminho do arquivo \n"
   ]
  },
  {
   "cell_type": "code",
   "execution_count": 13,
   "id": "ebe39f16",
   "metadata": {},
   "outputs": [
    {
     "name": "stdout",
     "output_type": "stream",
     "text": [
      "      Nome  NotaBigData  NotaPython\n",
      "0    Pedro            9        10.0\n",
      "1     Igor            8         9.0\n",
      "2  Haylena            8         8.8\n",
      "3   Iasmin            9         9.5\n",
      "4   Helder            7         8.9\n"
     ]
    }
   ],
   "source": [
    "import pandas as pd\n",
    "dataSetAlunos = pd.read_csv(\"notasAlunos.csv\", sep=\",\")\n",
    "print(dataSetAlunos)\n"
   ]
  },
  {
   "cell_type": "markdown",
   "id": "433a84a3",
   "metadata": {},
   "source": [
    "OBS. Se houver alguma falha na exportação, ou seja, erro no caminho, é impossível achar através da biblioteca/módulo os e, usando a função getcwd, ou seja,“get current working directory”.\n",
    "import os\n",
    "print(os.getcwd()) \n"
   ]
  },
  {
   "cell_type": "markdown",
   "id": "c44d9e17",
   "metadata": {},
   "source": [
    "1. Estatísticas básicas (descritiva)"
   ]
  },
  {
   "cell_type": "code",
   "execution_count": null,
   "id": "0acf26da",
   "metadata": {},
   "outputs": [
    {
     "data": {
      "text/html": [
       "<div>\n",
       "<style scoped>\n",
       "    .dataframe tbody tr th:only-of-type {\n",
       "        vertical-align: middle;\n",
       "    }\n",
       "\n",
       "    .dataframe tbody tr th {\n",
       "        vertical-align: top;\n",
       "    }\n",
       "\n",
       "    .dataframe thead th {\n",
       "        text-align: right;\n",
       "    }\n",
       "</style>\n",
       "<table border=\"1\" class=\"dataframe\">\n",
       "  <thead>\n",
       "    <tr style=\"text-align: right;\">\n",
       "      <th></th>\n",
       "      <th>NotaBigData</th>\n",
       "      <th>NotaPython</th>\n",
       "    </tr>\n",
       "  </thead>\n",
       "  <tbody>\n",
       "    <tr>\n",
       "      <th>count</th>\n",
       "      <td>5.00</td>\n",
       "      <td>5.00</td>\n",
       "    </tr>\n",
       "    <tr>\n",
       "      <th>mean</th>\n",
       "      <td>8.20</td>\n",
       "      <td>9.24</td>\n",
       "    </tr>\n",
       "    <tr>\n",
       "      <th>std</th>\n",
       "      <td>0.84</td>\n",
       "      <td>0.50</td>\n",
       "    </tr>\n",
       "    <tr>\n",
       "      <th>min</th>\n",
       "      <td>7.00</td>\n",
       "      <td>8.80</td>\n",
       "    </tr>\n",
       "    <tr>\n",
       "      <th>25%</th>\n",
       "      <td>8.00</td>\n",
       "      <td>8.90</td>\n",
       "    </tr>\n",
       "    <tr>\n",
       "      <th>50%</th>\n",
       "      <td>8.00</td>\n",
       "      <td>9.00</td>\n",
       "    </tr>\n",
       "    <tr>\n",
       "      <th>75%</th>\n",
       "      <td>9.00</td>\n",
       "      <td>9.50</td>\n",
       "    </tr>\n",
       "    <tr>\n",
       "      <th>max</th>\n",
       "      <td>9.00</td>\n",
       "      <td>10.00</td>\n",
       "    </tr>\n",
       "  </tbody>\n",
       "</table>\n",
       "</div>"
      ],
      "text/plain": [
       "       NotaBigData  NotaPython\n",
       "count         5.00        5.00\n",
       "mean          8.20        9.24\n",
       "std           0.84        0.50\n",
       "min           7.00        8.80\n",
       "25%           8.00        8.90\n",
       "50%           8.00        9.00\n",
       "75%           9.00        9.50\n",
       "max           9.00       10.00"
      ]
     },
     "execution_count": 19,
     "metadata": {},
     "output_type": "execute_result"
    }
   ],
   "source": [
    "# Aplicar a funçao describe()\n",
    "dataSetAlunos.describe().round(2)"
   ]
  },
  {
   "cell_type": "code",
   "execution_count": 23,
   "id": "87ace516",
   "metadata": {},
   "outputs": [
    {
     "name": "stdout",
     "output_type": "stream",
     "text": [
      "Média de nota dos alunos em BigData foi 8.2 ponotos.\n"
     ]
    }
   ],
   "source": [
    "# 1.1 Média\n",
    "print(\"Média de nota dos alunos em BigData foi\", dataSetAlunos[\"NotaBigData\"].mean().round(2), \"ponotos.\")"
   ]
  },
  {
   "cell_type": "markdown",
   "id": "66dcdd03",
   "metadata": {},
   "source": [
    "Faça Calculo da média para Python"
   ]
  },
  {
   "cell_type": "code",
   "execution_count": null,
   "id": "5743c64b",
   "metadata": {},
   "outputs": [],
   "source": [
    "# 1.1 Media Python"
   ]
  },
  {
   "cell_type": "code",
   "execution_count": 24,
   "id": "77dcaa30",
   "metadata": {},
   "outputs": [
    {
     "name": "stdout",
     "output_type": "stream",
     "text": [
      "Mediana de nota dos alunos em Python foi 9.0 ponotos.\n"
     ]
    }
   ],
   "source": [
    "# 1.2 Mediana\n",
    "print(\"Mediana de nota dos alunos em Python foi\", dataSetAlunos[\"NotaPython\"].median().round(2), \"ponotos.\")"
   ]
  },
  {
   "cell_type": "markdown",
   "id": "e208fac6",
   "metadata": {},
   "source": [
    "Faça Calculo da média para Python\n"
   ]
  },
  {
   "cell_type": "code",
   "execution_count": null,
   "id": "18453322",
   "metadata": {},
   "outputs": [],
   "source": [
    "# 1.2 Mediana Python"
   ]
  },
  {
   "cell_type": "code",
   "execution_count": 29,
   "id": "f74e8337",
   "metadata": {},
   "outputs": [
    {
     "name": "stdout",
     "output_type": "stream",
     "text": [
      "A moda encontrada foi 0    8\n",
      "1    9\n",
      "Name: NotaBigData, dtype: int64\n"
     ]
    }
   ],
   "source": [
    "# 1.3 Moda\n",
    "\n",
    "print(\"A moda encontrada foi\", dataSetAlunos[\"NotaBigData\"].mode())"
   ]
  },
  {
   "cell_type": "markdown",
   "id": "776f4699",
   "metadata": {},
   "source": [
    "Faça Calculo da moda para Python"
   ]
  },
  {
   "cell_type": "code",
   "execution_count": null,
   "id": "4995f0e0",
   "metadata": {},
   "outputs": [],
   "source": [
    "# 1. 3 Moda Python"
   ]
  },
  {
   "cell_type": "code",
   "execution_count": 31,
   "id": "52f42093",
   "metadata": {},
   "outputs": [
    {
     "name": "stdout",
     "output_type": "stream",
     "text": [
      "A variância das notas em BigData é de 0.7 pontos.\n"
     ]
    }
   ],
   "source": [
    "# 1.4 Variância\n",
    "print(\"A variância das notas em BigData é de\", dataSetAlunos[\"NotaBigData\"].var().round(2), \"pontos.\")"
   ]
  },
  {
   "cell_type": "markdown",
   "id": "a1744618",
   "metadata": {},
   "source": [
    "Faça Calculo da variância para Python"
   ]
  },
  {
   "cell_type": "code",
   "execution_count": null,
   "id": "c7bbcae2",
   "metadata": {},
   "outputs": [],
   "source": [
    "# 1.4 Variância Python"
   ]
  },
  {
   "cell_type": "code",
   "execution_count": null,
   "id": "4a424339",
   "metadata": {},
   "outputs": [
    {
     "name": "stdout",
     "output_type": "stream",
     "text": [
      "O desvio padrão das notas em BigData é de 0.84 pontos.\n"
     ]
    }
   ],
   "source": [
    "# 1.5 Desvio Padrão\n",
    "print(\"O desvio padrão das notas em BigData é de\", dataSetAlunos[\"NotaBigData\"].std().round(2), \"pontos.\")"
   ]
  },
  {
   "cell_type": "markdown",
   "id": "ac77a0ff",
   "metadata": {},
   "source": [
    "Faça Calculo da desvio padrão para Python"
   ]
  },
  {
   "cell_type": "code",
   "execution_count": null,
   "id": "7baf5f33",
   "metadata": {},
   "outputs": [],
   "source": [
    "# 1.5 Desvio Padrão Python"
   ]
  }
 ],
 "metadata": {
  "kernelspec": {
   "display_name": "Python 3",
   "language": "python",
   "name": "python3"
  },
  "language_info": {
   "codemirror_mode": {
    "name": "ipython",
    "version": 3
   },
   "file_extension": ".py",
   "mimetype": "text/x-python",
   "name": "python",
   "nbconvert_exporter": "python",
   "pygments_lexer": "ipython3",
   "version": "3.13.7"
  }
 },
 "nbformat": 4,
 "nbformat_minor": 5
}
