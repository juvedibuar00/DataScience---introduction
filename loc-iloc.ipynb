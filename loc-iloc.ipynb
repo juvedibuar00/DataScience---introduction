{
 "cells": [
  {
   "cell_type": "markdown",
   "id": "3266d899",
   "metadata": {},
   "source": [
    "Princípio básico do uso"
   ]
  },
  {
   "cell_type": "markdown",
   "id": "c994ed55",
   "metadata": {},
   "source": [
    "loc - Faz a seleção por rótulos, isto é, pelo nome ou índice em um dataset. Veja no exemplo a seguir com a base de dados notasAlunos"
   ]
  },
  {
   "cell_type": "code",
   "execution_count": 24,
   "id": "cf458187",
   "metadata": {},
   "outputs": [],
   "source": [
    "import pandas as pd\n",
    "\n",
    "dataSetAlunos = pd.read_csv(\"notasAlunos.csv\", sep=\",\")"
   ]
  },
  {
   "cell_type": "code",
   "execution_count": null,
   "id": "15a4474b",
   "metadata": {},
   "outputs": [
    {
     "name": "stdout",
     "output_type": "stream",
     "text": [
      "         NotaBigData  NotaPython\n",
      "Nome                            \n",
      "Pedro              9        10.0\n",
      "Igor               8         9.0\n",
      "Haylena            8         8.8\n",
      "Iasmin             9         9.5\n",
      "Helder             7         8.9\n"
     ]
    }
   ],
   "source": [
    "# df_com_indice = dataSetAlunos.set_index(\"Nome\")\n",
    "# print(df_com_indice)"
   ]
  },
  {
   "cell_type": "markdown",
   "id": "ec41ad2f",
   "metadata": {},
   "source": [
    "O loc seleciona linhas e colunas pelo nome do índice ou coluna.\n",
    "Sintaxe básica: df.loc[linhas, colunas]"
   ]
  },
  {
   "cell_type": "code",
   "execution_count": 33,
   "id": "f345ee82",
   "metadata": {},
   "outputs": [
    {
     "data": {
      "text/plain": [
       "Nome           Pedro\n",
       "NotaBigData        9\n",
       "NotaPython      10.0\n",
       "Name: 0, dtype: object"
      ]
     },
     "execution_count": 33,
     "metadata": {},
     "output_type": "execute_result"
    }
   ],
   "source": [
    "dataSetAlunos.loc[0]  # Seleciona a linha onde o índice é \"Ana\""
   ]
  },
  {
   "cell_type": "code",
   "execution_count": 38,
   "id": "9c02ad1b",
   "metadata": {},
   "outputs": [
    {
     "name": "stdout",
     "output_type": "stream",
     "text": [
      "         NotaBigData  NotaPython\n",
      "Nome                            \n",
      "Pedro              9        10.0\n",
      "Igor               8         9.0\n",
      "Haylena            8         8.8\n",
      "Iasmin             9         9.5\n",
      "Helder             7         8.9\n"
     ]
    }
   ],
   "source": [
    "# Usando  inplace=True para alterar o DataFrame original\n",
    "df = dataSetAlunos.set_index(\"Nome\")\n",
    "print(df)"
   ]
  },
  {
   "cell_type": "code",
   "execution_count": 39,
   "id": "453ea950",
   "metadata": {},
   "outputs": [
    {
     "data": {
      "text/plain": [
       "NotaBigData    8.0\n",
       "NotaPython     9.0\n",
       "Name: Igor, dtype: float64"
      ]
     },
     "execution_count": 39,
     "metadata": {},
     "output_type": "execute_result"
    }
   ],
   "source": [
    "df.loc[\"Igor\"]  # Seleciona a linha onde o índice é \"Igor\""
   ]
  },
  {
   "cell_type": "code",
   "execution_count": 48,
   "id": "89a86b84",
   "metadata": {},
   "outputs": [
    {
     "data": {
      "text/plain": [
       "np.float64(9.0)"
      ]
     },
     "execution_count": 48,
     "metadata": {},
     "output_type": "execute_result"
    }
   ],
   "source": [
    "# Apenas NotaPython de Igor\n",
    "df.loc[\"Igor\", \"NotaPython\"]"
   ]
  },
  {
   "cell_type": "code",
   "execution_count": 47,
   "id": "a49ea07c",
   "metadata": {},
   "outputs": [
    {
     "data": {
      "text/html": [
       "<div>\n",
       "<style scoped>\n",
       "    .dataframe tbody tr th:only-of-type {\n",
       "        vertical-align: middle;\n",
       "    }\n",
       "\n",
       "    .dataframe tbody tr th {\n",
       "        vertical-align: top;\n",
       "    }\n",
       "\n",
       "    .dataframe thead th {\n",
       "        text-align: right;\n",
       "    }\n",
       "</style>\n",
       "<table border=\"1\" class=\"dataframe\">\n",
       "  <thead>\n",
       "    <tr style=\"text-align: right;\">\n",
       "      <th></th>\n",
       "      <th>NotaBigData</th>\n",
       "      <th>NotaPython</th>\n",
       "    </tr>\n",
       "    <tr>\n",
       "      <th>Nome</th>\n",
       "      <th></th>\n",
       "      <th></th>\n",
       "    </tr>\n",
       "  </thead>\n",
       "  <tbody>\n",
       "    <tr>\n",
       "      <th>Pedro</th>\n",
       "      <td>9</td>\n",
       "      <td>10.0</td>\n",
       "    </tr>\n",
       "    <tr>\n",
       "      <th>Iasmin</th>\n",
       "      <td>9</td>\n",
       "      <td>9.5</td>\n",
       "    </tr>\n",
       "  </tbody>\n",
       "</table>\n",
       "</div>"
      ],
      "text/plain": [
       "        NotaBigData  NotaPython\n",
       "Nome                           \n",
       "Pedro             9        10.0\n",
       "Iasmin            9         9.5"
      ]
     },
     "execution_count": 47,
     "metadata": {},
     "output_type": "execute_result"
    }
   ],
   "source": [
    "# Aplicar condições com loc\n",
    "df.loc[df[\"NotaBigData\"] > 8]"
   ]
  },
  {
   "cell_type": "code",
   "execution_count": 49,
   "id": "bbc68e18",
   "metadata": {},
   "outputs": [
    {
     "name": "stdout",
     "output_type": "stream",
     "text": [
      "    Nome  NotaBigData  NotaPython\n",
      "0  Pedro            9        10.0\n"
     ]
    }
   ],
   "source": [
    "# Filtrar aluno chamado \"Pedro\"\n",
    "aluno = dataSetAlunos.loc[dataSetAlunos[\"Nome\"] == \"Pedro\"]\n",
    "\n",
    "print(aluno)"
   ]
  },
  {
   "cell_type": "markdown",
   "id": "e2b33cfd",
   "metadata": {},
   "source": [
    "Verificando apenas se existe"
   ]
  },
  {
   "cell_type": "code",
   "execution_count": null,
   "id": "37f6a58b",
   "metadata": {},
   "outputs": [],
   "source": [
    "if not dataSetAlunos.loc[dataSetAlunos[\"Nome\"] == \"Caio\"].empty:\n",
    "    print(\"Pedro está na lista!\")\n",
    "else:\n",
    "    print(\"Pedro não está na lista.\")\n"
   ]
  },
  {
   "cell_type": "markdown",
   "id": "0473549f",
   "metadata": {},
   "source": [
    "Verificação por iterador"
   ]
  },
  {
   "cell_type": "code",
   "execution_count": null,
   "id": "f30eb08e",
   "metadata": {},
   "outputs": [],
   "source": [
    "for nome in dataSetAlunos:\n",
    "    if not dataSetAlunos.loc[dataSetAlunos[\"Nome\"] == nome].empty:\n",
    "        print(f\"{nome} está na lista!\")\n",
    "    else:\n",
    "        print(f\"{nome} não está na lista.\")"
   ]
  },
  {
   "cell_type": "markdown",
   "id": "d81096df",
   "metadata": {},
   "source": []
  },
  {
   "cell_type": "code",
   "execution_count": 54,
   "id": "fcaeea3d",
   "metadata": {},
   "outputs": [
    {
     "name": "stdout",
     "output_type": "stream",
     "text": [
      "Pedro está na lista!\n",
      "Igor está na lista!\n",
      "Haylena está na lista!\n",
      "Iasmin está na lista!\n",
      "Helder está na lista!\n"
     ]
    }
   ],
   "source": [
    "for nome in dataSetAlunos[\"Nome\"]:\n",
    "    if not dataSetAlunos.loc[dataSetAlunos[\"Nome\"] == nome].empty:\n",
    "        print(f\"{nome} está na lista!\")\n",
    "    else:\n",
    "        print(f\"{nome} não está na lista.\")\n"
   ]
  },
  {
   "cell_type": "markdown",
   "id": "534f3136",
   "metadata": {},
   "source": []
  },
  {
   "cell_type": "code",
   "execution_count": 56,
   "id": "54ec7d7a",
   "metadata": {},
   "outputs": [
    {
     "name": "stdout",
     "output_type": "stream",
     "text": [
      "Igor está na lista!\n"
     ]
    }
   ],
   "source": [
    "# Solicita o nome do usuário\n",
    "nome_usuario = input(\"Digite o nome do aluno: \")\n",
    "\n",
    "# Verifica se o nome existe na coluna 'Nome'\n",
    "if not dataSetAlunos.loc[dataSetAlunos[\"Nome\"] == nome_usuario].empty:\n",
    "    print(f\"{nome_usuario} está na lista!\")\n",
    "else:\n",
    "    print(f\"{nome_usuario} não está na lista.\")\n"
   ]
  },
  {
   "cell_type": "markdown",
   "id": "07e4f90f",
   "metadata": {},
   "source": [
    "POSIÇAO NA LISTA"
   ]
  },
  {
   "cell_type": "code",
   "execution_count": 57,
   "id": "2d57f631",
   "metadata": {},
   "outputs": [
    {
     "name": "stdout",
     "output_type": "stream",
     "text": [
      "Helder está na lista! Posição (índice) no DataFrame: 4\n"
     ]
    }
   ],
   "source": [
    "# Solicita o nome do usuário\n",
    "nome_usuario = input(\"Digite o nome do aluno: \")\n",
    "\n",
    "# Filtra o DataFrame pelo nome\n",
    "resultado = dataSetAlunos.loc[dataSetAlunos[\"Nome\"] == nome_usuario]\n",
    "\n",
    "if not resultado.empty:\n",
    "    # Pega o índice da linha\n",
    "    indice = resultado.index[0]  # se houver mais de um, pega o primeiro\n",
    "    print(f\"{nome_usuario} está na lista! Posição (índice) no DataFrame: {indice}\")\n",
    "else:\n",
    "    print(f\"{nome_usuario} não está na lista.\")\n"
   ]
  },
  {
   "cell_type": "markdown",
   "id": "75639f60",
   "metadata": {},
   "source": [
    "iloc - seleção por posição (número)\n",
    "seleciona linhas e colunas pela posição numérica (como em uma matriz/array)\n",
    "\n",
    "Sintaxe básica: df.iloc[linhas, colunas]"
   ]
  },
  {
   "cell_type": "code",
   "execution_count": 58,
   "id": "d6745b78",
   "metadata": {},
   "outputs": [
    {
     "data": {
      "text/plain": [
       "NotaBigData     9.0\n",
       "NotaPython     10.0\n",
       "Name: Pedro, dtype: float64"
      ]
     },
     "execution_count": 58,
     "metadata": {},
     "output_type": "execute_result"
    }
   ],
   "source": [
    "df.iloc[0]  # Seleciona a primeira linha do DataFrame"
   ]
  },
  {
   "cell_type": "code",
   "execution_count": 70,
   "id": "87406d9c",
   "metadata": {},
   "outputs": [
    {
     "data": {
      "text/plain": [
       "np.int64(8)"
      ]
     },
     "execution_count": 70,
     "metadata": {},
     "output_type": "execute_result"
    }
   ],
   "source": [
    "# Primeira linha, segunda coluna (NotaPython de Pedro)\n",
    "df.iloc[1,0]"
   ]
  },
  {
   "cell_type": "code",
   "execution_count": 86,
   "id": "501ee80f",
   "metadata": {},
   "outputs": [
    {
     "data": {
      "text/html": [
       "<div>\n",
       "<style scoped>\n",
       "    .dataframe tbody tr th:only-of-type {\n",
       "        vertical-align: middle;\n",
       "    }\n",
       "\n",
       "    .dataframe tbody tr th {\n",
       "        vertical-align: top;\n",
       "    }\n",
       "\n",
       "    .dataframe thead th {\n",
       "        text-align: right;\n",
       "    }\n",
       "</style>\n",
       "<table border=\"1\" class=\"dataframe\">\n",
       "  <thead>\n",
       "    <tr style=\"text-align: right;\">\n",
       "      <th></th>\n",
       "      <th>NotaBigData</th>\n",
       "      <th>NotaPython</th>\n",
       "    </tr>\n",
       "    <tr>\n",
       "      <th>Nome</th>\n",
       "      <th></th>\n",
       "      <th></th>\n",
       "    </tr>\n",
       "  </thead>\n",
       "  <tbody>\n",
       "    <tr>\n",
       "      <th>Pedro</th>\n",
       "      <td>9</td>\n",
       "      <td>10.0</td>\n",
       "    </tr>\n",
       "    <tr>\n",
       "      <th>Igor</th>\n",
       "      <td>8</td>\n",
       "      <td>9.0</td>\n",
       "    </tr>\n",
       "    <tr>\n",
       "      <th>Haylena</th>\n",
       "      <td>8</td>\n",
       "      <td>8.8</td>\n",
       "    </tr>\n",
       "  </tbody>\n",
       "</table>\n",
       "</div>"
      ],
      "text/plain": [
       "         NotaBigData  NotaPython\n",
       "Nome                            \n",
       "Pedro              9        10.0\n",
       "Igor               8         9.0\n",
       "Haylena            8         8.8"
      ]
     },
     "execution_count": 86,
     "metadata": {},
     "output_type": "execute_result"
    }
   ],
   "source": [
    "# Primeiras 3 linhas\n",
    "df.iloc[0:3]"
   ]
  }
 ],
 "metadata": {
  "kernelspec": {
   "display_name": "Python 3",
   "language": "python",
   "name": "python3"
  },
  "language_info": {
   "codemirror_mode": {
    "name": "ipython",
    "version": 3
   },
   "file_extension": ".py",
   "mimetype": "text/x-python",
   "name": "python",
   "nbconvert_exporter": "python",
   "pygments_lexer": "ipython3",
   "version": "3.13.7"
  }
 },
 "nbformat": 4,
 "nbformat_minor": 5
}
