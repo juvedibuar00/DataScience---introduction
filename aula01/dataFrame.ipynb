{
 "cells": [
  {
   "cell_type": "code",
   "execution_count": null,
   "id": "57692f16",
   "metadata": {},
   "outputs": [],
   "source": [
    "import pandas as pd\n",
    "\n",
    "# 1. Create a DataFrame with sample data\n",
    "notaAlunos = {\n",
    "\"Nome\": [\"Pedro\", \"Igor\", \"Haylena\", \"Iasmin\", \"Helder\"],\n",
    "\"NotaBigData\": [9,8,8,9,7],\n",
    "\"NotaPython\":[10,9,8.8, 9.5, 8.9]\n",
    "}\n",
    "\n"
   ]
  },
  {
   "cell_type": "markdown",
   "id": "540ab4c3",
   "metadata": {},
   "source": [
    "Transformar dados em um DataFrame"
   ]
  },
  {
   "cell_type": "code",
   "execution_count": 8,
   "id": "a23f9138",
   "metadata": {},
   "outputs": [],
   "source": [
    "df = pd.DataFrame(notaAlunos)"
   ]
  },
  {
   "cell_type": "markdown",
   "id": "0806c945",
   "metadata": {},
   "source": [
    "Exibir DataFrame"
   ]
  },
  {
   "cell_type": "code",
   "execution_count": 9,
   "id": "8471f060",
   "metadata": {},
   "outputs": [
    {
     "name": "stdout",
     "output_type": "stream",
     "text": [
      "      Nome  NotaBigData  NotaPython\n",
      "0    Pedro            9        10.0\n",
      "1     Igor            8         9.0\n",
      "2  Haylena            8         8.8\n",
      "3   Iasmin            9         9.5\n",
      "4   Helder            7         8.9\n"
     ]
    }
   ],
   "source": [
    "print(df)"
   ]
  },
  {
   "cell_type": "markdown",
   "id": "1c9b20c4",
   "metadata": {},
   "source": [
    "Exclusão de indice"
   ]
  },
  {
   "cell_type": "code",
   "execution_count": 10,
   "id": "243db27e",
   "metadata": {},
   "outputs": [
    {
     "name": "stdout",
     "output_type": "stream",
     "text": [
      "         NotaBigData  NotaPython\n",
      "Nome                            \n",
      "Pedro              9        10.0\n",
      "Igor               8         9.0\n",
      "Haylena            8         8.8\n",
      "Iasmin             9         9.5\n",
      "Helder             7         8.9\n"
     ]
    }
   ],
   "source": [
    "df_com_indice = df.set_index(\"Nome\")\n",
    "print(df_com_indice)"
   ]
  },
  {
   "cell_type": "markdown",
   "id": "42c01970",
   "metadata": {},
   "source": [
    "EXPORTAR PARA EXTENSÃO .csv\n",
    "notasAlunos.csv"
   ]
  },
  {
   "cell_type": "code",
   "execution_count": 16,
   "id": "6885292f",
   "metadata": {},
   "outputs": [],
   "source": [
    "# Exportar para Excel sem incluir o índice (0,1,2,...)\n",
    "df.to_csv(\"notasAlunos.csv\", index=False)"
   ]
  },
  {
   "cell_type": "markdown",
   "id": "37c2534f",
   "metadata": {},
   "source": [
    "EXPORTAR PARA EXTENSÃO .xlsx\n",
    "notasAlunos.xlsx"
   ]
  },
  {
   "cell_type": "code",
   "execution_count": 18,
   "id": "312863da",
   "metadata": {},
   "outputs": [],
   "source": [
    "df.to_excel(\"notasAlunos.xlsx\", index=False)"
   ]
  },
  {
   "cell_type": "markdown",
   "id": "20bd2d28",
   "metadata": {},
   "source": [
    "OBS. É bem provável que não ocorra aç~~ao bem sucedida. Neste é caso, recomenda-se instalar opnpyxl no terminal do ambiente de execução.\n",
    "pip install openpyxl\n"
   ]
  }
 ],
 "metadata": {
  "kernelspec": {
   "display_name": "Python 3",
   "language": "python",
   "name": "python3"
  },
  "language_info": {
   "codemirror_mode": {
    "name": "ipython",
    "version": 3
   },
   "file_extension": ".py",
   "mimetype": "text/x-python",
   "name": "python",
   "nbconvert_exporter": "python",
   "pygments_lexer": "ipython3",
   "version": "3.13.7"
  }
 },
 "nbformat": 4,
 "nbformat_minor": 5
}
